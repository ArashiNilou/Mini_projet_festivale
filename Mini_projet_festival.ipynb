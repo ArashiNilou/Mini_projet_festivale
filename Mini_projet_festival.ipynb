{
 "cells": [
  {
   "cell_type": "code",
   "execution_count": 67,
   "metadata": {},
   "outputs": [],
   "source": [
    "import pandas as pd\n",
    "import seaborn as sns\n",
    "import matplotlib.pyplot as plt\n",
    "import plotly.express as px"
   ]
  },
  {
   "cell_type": "code",
   "execution_count": 34,
   "metadata": {},
   "outputs": [],
   "source": [
    "df = pd.read_csv('festivals-global-festivals-_-pl.csv', sep=';')"
   ]
  },
  {
   "cell_type": "code",
   "execution_count": 35,
   "metadata": {},
   "outputs": [],
   "source": [
    "pd.set_option('display.max_columns', None)"
   ]
  },
  {
   "cell_type": "code",
   "execution_count": 36,
   "metadata": {},
   "outputs": [
    {
     "data": {
      "text/html": [
       "<div>\n",
       "<style scoped>\n",
       "    .dataframe tbody tr th:only-of-type {\n",
       "        vertical-align: middle;\n",
       "    }\n",
       "\n",
       "    .dataframe tbody tr th {\n",
       "        vertical-align: top;\n",
       "    }\n",
       "\n",
       "    .dataframe thead th {\n",
       "        text-align: right;\n",
       "    }\n",
       "</style>\n",
       "<table border=\"1\" class=\"dataframe\">\n",
       "  <thead>\n",
       "    <tr style=\"text-align: right;\">\n",
       "      <th></th>\n",
       "      <th>﻿Nom du festival</th>\n",
       "      <th>Envergure territoriale</th>\n",
       "      <th>Région principale de déroulement</th>\n",
       "      <th>Département principal de déroulement</th>\n",
       "      <th>Commune principale de déroulement</th>\n",
       "      <th>Code postal (de la commune principale de déroulement)</th>\n",
       "      <th>Code Insee commune</th>\n",
       "      <th>Code Insee EPCI</th>\n",
       "      <th>Libellé EPCI</th>\n",
       "      <th>Numéro de voie</th>\n",
       "      <th>Type de voie (rue, Avenue, boulevard, etc.)</th>\n",
       "      <th>Nom de la voie</th>\n",
       "      <th>Adresse postale</th>\n",
       "      <th>Complément d'adresse (facultatif)</th>\n",
       "      <th>Site internet du festival</th>\n",
       "      <th>Adresse e-mail</th>\n",
       "      <th>Décennie de création du festival</th>\n",
       "      <th>Année de création du festival</th>\n",
       "      <th>Discipline dominante</th>\n",
       "      <th>Sous-catégorie spectacle vivant</th>\n",
       "      <th>Sous-catégorie musique</th>\n",
       "      <th>Sous-catégorie Musique CNM</th>\n",
       "      <th>Sous-catégorie cinéma et audiovisuel</th>\n",
       "      <th>Sous-catégorie arts visuels et arts numériques</th>\n",
       "      <th>Sous-catégorie livre et littérature</th>\n",
       "      <th>Période principale de déroulement du festival</th>\n",
       "      <th>Identifiant Agence A</th>\n",
       "      <th>Identifiant</th>\n",
       "      <th>Géocodage xy</th>\n",
       "      <th>identifiant CNM</th>\n",
       "    </tr>\n",
       "  </thead>\n",
       "  <tbody>\n",
       "    <tr>\n",
       "      <th>0</th>\n",
       "      <td>Avoine Zone Groove</td>\n",
       "      <td>Intercommunale</td>\n",
       "      <td>Centre-Val de Loire</td>\n",
       "      <td>Indre-et-Loire</td>\n",
       "      <td>Avoine</td>\n",
       "      <td>37420</td>\n",
       "      <td>37011</td>\n",
       "      <td>200043081</td>\n",
       "      <td>CC Chinon, Vienne et Loire</td>\n",
       "      <td>NaN</td>\n",
       "      <td>NaN</td>\n",
       "      <td>NaN</td>\n",
       "      <td>NaN</td>\n",
       "      <td>NaN</td>\n",
       "      <td>www.avoinezonegroove.fr</td>\n",
       "      <td>NaN</td>\n",
       "      <td>De 2000 à 2009</td>\n",
       "      <td>2000</td>\n",
       "      <td>Musique</td>\n",
       "      <td>NaN</td>\n",
       "      <td>Jazz, Blues</td>\n",
       "      <td>07- Musiques actuelles sans distinction</td>\n",
       "      <td>NaN</td>\n",
       "      <td>NaN</td>\n",
       "      <td>NaN</td>\n",
       "      <td>Saison (21 juin - 5 septembre)</td>\n",
       "      <td>NaN</td>\n",
       "      <td>FEST_37011_550</td>\n",
       "      <td>47.2237767737, 0.18754463005</td>\n",
       "      <td>333.0</td>\n",
       "    </tr>\n",
       "    <tr>\n",
       "      <th>1</th>\n",
       "      <td>Festival des correspondances des arts</td>\n",
       "      <td>Départementale</td>\n",
       "      <td>Hauts-de-France</td>\n",
       "      <td>Aisne</td>\n",
       "      <td>Braine</td>\n",
       "      <td>2220</td>\n",
       "      <td>2110</td>\n",
       "      <td>240200501</td>\n",
       "      <td>CC du Val de l'Aisne</td>\n",
       "      <td>30</td>\n",
       "      <td>Place</td>\n",
       "      <td>Charles de Gaulle</td>\n",
       "      <td>30 Place Charles de Gaulle</td>\n",
       "      <td>NaN</td>\n",
       "      <td>https://braine.fr/</td>\n",
       "      <td>correspondance-des-arts@braine.fr</td>\n",
       "      <td>2010 et après</td>\n",
       "      <td>2018</td>\n",
       "      <td>Pluridisciplinaire</td>\n",
       "      <td>NaN</td>\n",
       "      <td>NaN</td>\n",
       "      <td>NaN</td>\n",
       "      <td>NaN</td>\n",
       "      <td>NaN</td>\n",
       "      <td>NaN</td>\n",
       "      <td>Après-saison (6 septembre - 31 décembre)</td>\n",
       "      <td>NaN</td>\n",
       "      <td>FEST_02110_1021</td>\n",
       "      <td>49.3484719318, 3.53596629744</td>\n",
       "      <td>NaN</td>\n",
       "    </tr>\n",
       "    <tr>\n",
       "      <th>2</th>\n",
       "      <td>Soirées d'automne - festival itinérant</td>\n",
       "      <td>NaN</td>\n",
       "      <td>Provence-Alpes-Côte d'Azur</td>\n",
       "      <td>Vaucluse</td>\n",
       "      <td>Carpentras</td>\n",
       "      <td>84203</td>\n",
       "      <td>84031</td>\n",
       "      <td>248400053</td>\n",
       "      <td>CA Ventoux-Comtat-Venaissin (COVE)</td>\n",
       "      <td>NaN</td>\n",
       "      <td>NaN</td>\n",
       "      <td>NaN</td>\n",
       "      <td>NaN</td>\n",
       "      <td>NaN</td>\n",
       "      <td>www.soireesdautomne.com</td>\n",
       "      <td>info@passagersduzinc.com</td>\n",
       "      <td>2010 et après</td>\n",
       "      <td>NaN</td>\n",
       "      <td>Musique</td>\n",
       "      <td>NaN</td>\n",
       "      <td>NaN</td>\n",
       "      <td>09- Pluridisciplinaire</td>\n",
       "      <td>NaN</td>\n",
       "      <td>NaN</td>\n",
       "      <td>NaN</td>\n",
       "      <td>Après-saison (6 septembre - 31 décembre)</td>\n",
       "      <td>NaN</td>\n",
       "      <td>FEST_84031_1284</td>\n",
       "      <td>44.0593802565, 5.06134844776</td>\n",
       "      <td>675.0</td>\n",
       "    </tr>\n",
       "    <tr>\n",
       "      <th>3</th>\n",
       "      <td>Macki Music Festival</td>\n",
       "      <td>NaN</td>\n",
       "      <td>Île-de-France</td>\n",
       "      <td>Yvelines</td>\n",
       "      <td>Carrières-sur-Seine</td>\n",
       "      <td>78420</td>\n",
       "      <td>78124</td>\n",
       "      <td>200058519</td>\n",
       "      <td>Saint-Germain Boucles de Seine</td>\n",
       "      <td>NaN</td>\n",
       "      <td>NaN</td>\n",
       "      <td>NaN</td>\n",
       "      <td>NaN</td>\n",
       "      <td>NaN</td>\n",
       "      <td>https://www.mackimusicfestival.fr/</td>\n",
       "      <td>mackimusicfestival@gmail.com</td>\n",
       "      <td>2010 et après</td>\n",
       "      <td>2014</td>\n",
       "      <td>Musique</td>\n",
       "      <td>NaN</td>\n",
       "      <td>Musiques du monde, Musiques traditionnelles, R...</td>\n",
       "      <td>02- Musiques amplifiées ou électroniques</td>\n",
       "      <td>NaN</td>\n",
       "      <td>NaN</td>\n",
       "      <td>NaN</td>\n",
       "      <td>Saison (21 juin - 5 septembre)</td>\n",
       "      <td>NaN</td>\n",
       "      <td>FEST_78124_1288</td>\n",
       "      <td>48.9119335064, 2.17838235323</td>\n",
       "      <td>1708.0</td>\n",
       "    </tr>\n",
       "    <tr>\n",
       "      <th>4</th>\n",
       "      <td>Play mobile</td>\n",
       "      <td>NaN</td>\n",
       "      <td>Île-de-France</td>\n",
       "      <td>Hauts-de-Seine</td>\n",
       "      <td>Chatillon</td>\n",
       "      <td>92320</td>\n",
       "      <td>92020</td>\n",
       "      <td>200057966</td>\n",
       "      <td>Vallée Sud Grand Paris (T2)</td>\n",
       "      <td>NaN</td>\n",
       "      <td>NaN</td>\n",
       "      <td>NaN</td>\n",
       "      <td>NaN</td>\n",
       "      <td>NaN</td>\n",
       "      <td>http://www.theatreachatillon.com/play-mobile.php</td>\n",
       "      <td>NaN</td>\n",
       "      <td>2010 et après</td>\n",
       "      <td>01/01/2016 00:00</td>\n",
       "      <td>Spectacle vivant</td>\n",
       "      <td>Arts de la rue</td>\n",
       "      <td>NaN</td>\n",
       "      <td>NaN</td>\n",
       "      <td>NaN</td>\n",
       "      <td>NaN</td>\n",
       "      <td>NaN</td>\n",
       "      <td>Avant-saison (1er janvier - 20 juin)</td>\n",
       "      <td>NaN</td>\n",
       "      <td>FEST_92020_1579</td>\n",
       "      <td>48.8034091756, 2.28799131883</td>\n",
       "      <td>NaN</td>\n",
       "    </tr>\n",
       "  </tbody>\n",
       "</table>\n",
       "</div>"
      ],
      "text/plain": [
       "                         ﻿Nom du festival Envergure territoriale  \\\n",
       "0                      Avoine Zone Groove         Intercommunale   \n",
       "1   Festival des correspondances des arts         Départementale   \n",
       "2  Soirées d'automne - festival itinérant                    NaN   \n",
       "3                    Macki Music Festival                    NaN   \n",
       "4                             Play mobile                    NaN   \n",
       "\n",
       "  Région principale de déroulement Département principal de déroulement  \\\n",
       "0              Centre-Val de Loire                       Indre-et-Loire   \n",
       "1                  Hauts-de-France                                Aisne   \n",
       "2       Provence-Alpes-Côte d'Azur                             Vaucluse   \n",
       "3                    Île-de-France                             Yvelines   \n",
       "4                    Île-de-France                       Hauts-de-Seine   \n",
       "\n",
       "  Commune principale de déroulement  \\\n",
       "0                            Avoine   \n",
       "1                            Braine   \n",
       "2                        Carpentras   \n",
       "3               Carrières-sur-Seine   \n",
       "4                         Chatillon   \n",
       "\n",
       "  Code postal (de la commune principale de déroulement) Code Insee commune  \\\n",
       "0                                              37420                 37011   \n",
       "1                                               2220                  2110   \n",
       "2                                              84203                 84031   \n",
       "3                                              78420                 78124   \n",
       "4                                              92320                 92020   \n",
       "\n",
       "  Code Insee EPCI                        Libellé EPCI Numéro de voie  \\\n",
       "0       200043081          CC Chinon, Vienne et Loire            NaN   \n",
       "1       240200501                CC du Val de l'Aisne             30   \n",
       "2       248400053  CA Ventoux-Comtat-Venaissin (COVE)            NaN   \n",
       "3       200058519      Saint-Germain Boucles de Seine            NaN   \n",
       "4       200057966         Vallée Sud Grand Paris (T2)            NaN   \n",
       "\n",
       "  Type de voie (rue, Avenue, boulevard, etc.)     Nom de la voie  \\\n",
       "0                                         NaN                NaN   \n",
       "1                                       Place  Charles de Gaulle   \n",
       "2                                         NaN                NaN   \n",
       "3                                         NaN                NaN   \n",
       "4                                         NaN                NaN   \n",
       "\n",
       "              Adresse postale Complément d'adresse (facultatif)  \\\n",
       "0                         NaN                               NaN   \n",
       "1  30 Place Charles de Gaulle                               NaN   \n",
       "2                         NaN                               NaN   \n",
       "3                         NaN                               NaN   \n",
       "4                         NaN                               NaN   \n",
       "\n",
       "                          Site internet du festival  \\\n",
       "0                           www.avoinezonegroove.fr   \n",
       "1                                https://braine.fr/   \n",
       "2                           www.soireesdautomne.com   \n",
       "3                https://www.mackimusicfestival.fr/   \n",
       "4  http://www.theatreachatillon.com/play-mobile.php   \n",
       "\n",
       "                      Adresse e-mail Décennie de création du festival  \\\n",
       "0                                NaN                   De 2000 à 2009   \n",
       "1  correspondance-des-arts@braine.fr                    2010 et après   \n",
       "2           info@passagersduzinc.com                    2010 et après   \n",
       "3       mackimusicfestival@gmail.com                    2010 et après   \n",
       "4                                NaN                    2010 et après   \n",
       "\n",
       "  Année de création du festival Discipline dominante  \\\n",
       "0                          2000              Musique   \n",
       "1                          2018   Pluridisciplinaire   \n",
       "2                           NaN              Musique   \n",
       "3                          2014              Musique   \n",
       "4              01/01/2016 00:00     Spectacle vivant   \n",
       "\n",
       "  Sous-catégorie spectacle vivant  \\\n",
       "0                             NaN   \n",
       "1                             NaN   \n",
       "2                             NaN   \n",
       "3                             NaN   \n",
       "4                  Arts de la rue   \n",
       "\n",
       "                              Sous-catégorie musique  \\\n",
       "0                                        Jazz, Blues   \n",
       "1                                                NaN   \n",
       "2                                                NaN   \n",
       "3  Musiques du monde, Musiques traditionnelles, R...   \n",
       "4                                                NaN   \n",
       "\n",
       "                 Sous-catégorie Musique CNM  \\\n",
       "0   07- Musiques actuelles sans distinction   \n",
       "1                                       NaN   \n",
       "2                    09- Pluridisciplinaire   \n",
       "3  02- Musiques amplifiées ou électroniques   \n",
       "4                                       NaN   \n",
       "\n",
       "  Sous-catégorie cinéma et audiovisuel  \\\n",
       "0                                  NaN   \n",
       "1                                  NaN   \n",
       "2                                  NaN   \n",
       "3                                  NaN   \n",
       "4                                  NaN   \n",
       "\n",
       "  Sous-catégorie arts visuels et arts numériques  \\\n",
       "0                                            NaN   \n",
       "1                                            NaN   \n",
       "2                                            NaN   \n",
       "3                                            NaN   \n",
       "4                                            NaN   \n",
       "\n",
       "  Sous-catégorie livre et littérature  \\\n",
       "0                                 NaN   \n",
       "1                                 NaN   \n",
       "2                                 NaN   \n",
       "3                                 NaN   \n",
       "4                                 NaN   \n",
       "\n",
       "  Période principale de déroulement du festival Identifiant Agence A  \\\n",
       "0                Saison (21 juin - 5 septembre)                  NaN   \n",
       "1      Après-saison (6 septembre - 31 décembre)                  NaN   \n",
       "2      Après-saison (6 septembre - 31 décembre)                  NaN   \n",
       "3                Saison (21 juin - 5 septembre)                  NaN   \n",
       "4          Avant-saison (1er janvier - 20 juin)                  NaN   \n",
       "\n",
       "       Identifiant                  Géocodage xy  identifiant CNM  \n",
       "0   FEST_37011_550  47.2237767737, 0.18754463005            333.0  \n",
       "1  FEST_02110_1021  49.3484719318, 3.53596629744              NaN  \n",
       "2  FEST_84031_1284  44.0593802565, 5.06134844776            675.0  \n",
       "3  FEST_78124_1288  48.9119335064, 2.17838235323           1708.0  \n",
       "4  FEST_92020_1579  48.8034091756, 2.28799131883              NaN  "
      ]
     },
     "execution_count": 36,
     "metadata": {},
     "output_type": "execute_result"
    }
   ],
   "source": [
    "df.head(5)"
   ]
  },
  {
   "cell_type": "code",
   "execution_count": 37,
   "metadata": {},
   "outputs": [],
   "source": [
    "# premiere nettoyage du dataset \n",
    "colonnes_a_supprimer = ['Envergure territoriale', 'Code Insee commune', 'Code Insee EPCI', 'Libellé EPCI',\n",
    "                        'Numéro de voie', 'Type de voie (rue, Avenue, boulevard, etc.)', 'Nom de la voie',\n",
    "                        'Adresse postale', 'Adresse e-mail', 'Décennie de création du festival',\n",
    "                        'Identifiant Agence A', \"Complément d'adresse (facultatif)\",\n",
    "                        'Code postal (de la commune principale de déroulement)',\n",
    "                        'Département principal de déroulement', 'identifiant CNM']\n",
    "\n",
    "df.drop(columns=colonnes_a_supprimer, inplace=True)\n"
   ]
  },
  {
   "cell_type": "code",
   "execution_count": 38,
   "metadata": {},
   "outputs": [
    {
     "data": {
      "text/html": [
       "<div>\n",
       "<style scoped>\n",
       "    .dataframe tbody tr th:only-of-type {\n",
       "        vertical-align: middle;\n",
       "    }\n",
       "\n",
       "    .dataframe tbody tr th {\n",
       "        vertical-align: top;\n",
       "    }\n",
       "\n",
       "    .dataframe thead th {\n",
       "        text-align: right;\n",
       "    }\n",
       "</style>\n",
       "<table border=\"1\" class=\"dataframe\">\n",
       "  <thead>\n",
       "    <tr style=\"text-align: right;\">\n",
       "      <th></th>\n",
       "      <th>﻿Nom du festival</th>\n",
       "      <th>Région principale de déroulement</th>\n",
       "      <th>Commune principale de déroulement</th>\n",
       "      <th>Site internet du festival</th>\n",
       "      <th>Année de création du festival</th>\n",
       "      <th>Discipline dominante</th>\n",
       "      <th>Sous-catégorie spectacle vivant</th>\n",
       "      <th>Sous-catégorie musique</th>\n",
       "      <th>Sous-catégorie Musique CNM</th>\n",
       "      <th>Sous-catégorie cinéma et audiovisuel</th>\n",
       "      <th>Sous-catégorie arts visuels et arts numériques</th>\n",
       "      <th>Sous-catégorie livre et littérature</th>\n",
       "      <th>Période principale de déroulement du festival</th>\n",
       "      <th>Identifiant</th>\n",
       "      <th>Géocodage xy</th>\n",
       "    </tr>\n",
       "  </thead>\n",
       "  <tbody>\n",
       "    <tr>\n",
       "      <th>0</th>\n",
       "      <td>Avoine Zone Groove</td>\n",
       "      <td>Centre-Val de Loire</td>\n",
       "      <td>Avoine</td>\n",
       "      <td>www.avoinezonegroove.fr</td>\n",
       "      <td>2000</td>\n",
       "      <td>Musique</td>\n",
       "      <td>NaN</td>\n",
       "      <td>Jazz, Blues</td>\n",
       "      <td>07- Musiques actuelles sans distinction</td>\n",
       "      <td>NaN</td>\n",
       "      <td>NaN</td>\n",
       "      <td>NaN</td>\n",
       "      <td>Saison (21 juin - 5 septembre)</td>\n",
       "      <td>FEST_37011_550</td>\n",
       "      <td>47.2237767737, 0.18754463005</td>\n",
       "    </tr>\n",
       "    <tr>\n",
       "      <th>1</th>\n",
       "      <td>Festival des correspondances des arts</td>\n",
       "      <td>Hauts-de-France</td>\n",
       "      <td>Braine</td>\n",
       "      <td>https://braine.fr/</td>\n",
       "      <td>2018</td>\n",
       "      <td>Pluridisciplinaire</td>\n",
       "      <td>NaN</td>\n",
       "      <td>NaN</td>\n",
       "      <td>NaN</td>\n",
       "      <td>NaN</td>\n",
       "      <td>NaN</td>\n",
       "      <td>NaN</td>\n",
       "      <td>Après-saison (6 septembre - 31 décembre)</td>\n",
       "      <td>FEST_02110_1021</td>\n",
       "      <td>49.3484719318, 3.53596629744</td>\n",
       "    </tr>\n",
       "    <tr>\n",
       "      <th>2</th>\n",
       "      <td>Soirées d'automne - festival itinérant</td>\n",
       "      <td>Provence-Alpes-Côte d'Azur</td>\n",
       "      <td>Carpentras</td>\n",
       "      <td>www.soireesdautomne.com</td>\n",
       "      <td>NaN</td>\n",
       "      <td>Musique</td>\n",
       "      <td>NaN</td>\n",
       "      <td>NaN</td>\n",
       "      <td>09- Pluridisciplinaire</td>\n",
       "      <td>NaN</td>\n",
       "      <td>NaN</td>\n",
       "      <td>NaN</td>\n",
       "      <td>Après-saison (6 septembre - 31 décembre)</td>\n",
       "      <td>FEST_84031_1284</td>\n",
       "      <td>44.0593802565, 5.06134844776</td>\n",
       "    </tr>\n",
       "    <tr>\n",
       "      <th>3</th>\n",
       "      <td>Macki Music Festival</td>\n",
       "      <td>Île-de-France</td>\n",
       "      <td>Carrières-sur-Seine</td>\n",
       "      <td>https://www.mackimusicfestival.fr/</td>\n",
       "      <td>2014</td>\n",
       "      <td>Musique</td>\n",
       "      <td>NaN</td>\n",
       "      <td>Musiques du monde, Musiques traditionnelles, R...</td>\n",
       "      <td>02- Musiques amplifiées ou électroniques</td>\n",
       "      <td>NaN</td>\n",
       "      <td>NaN</td>\n",
       "      <td>NaN</td>\n",
       "      <td>Saison (21 juin - 5 septembre)</td>\n",
       "      <td>FEST_78124_1288</td>\n",
       "      <td>48.9119335064, 2.17838235323</td>\n",
       "    </tr>\n",
       "    <tr>\n",
       "      <th>4</th>\n",
       "      <td>Play mobile</td>\n",
       "      <td>Île-de-France</td>\n",
       "      <td>Chatillon</td>\n",
       "      <td>http://www.theatreachatillon.com/play-mobile.php</td>\n",
       "      <td>01/01/2016 00:00</td>\n",
       "      <td>Spectacle vivant</td>\n",
       "      <td>Arts de la rue</td>\n",
       "      <td>NaN</td>\n",
       "      <td>NaN</td>\n",
       "      <td>NaN</td>\n",
       "      <td>NaN</td>\n",
       "      <td>NaN</td>\n",
       "      <td>Avant-saison (1er janvier - 20 juin)</td>\n",
       "      <td>FEST_92020_1579</td>\n",
       "      <td>48.8034091756, 2.28799131883</td>\n",
       "    </tr>\n",
       "  </tbody>\n",
       "</table>\n",
       "</div>"
      ],
      "text/plain": [
       "                         ﻿Nom du festival Région principale de déroulement  \\\n",
       "0                      Avoine Zone Groove              Centre-Val de Loire   \n",
       "1   Festival des correspondances des arts                  Hauts-de-France   \n",
       "2  Soirées d'automne - festival itinérant       Provence-Alpes-Côte d'Azur   \n",
       "3                    Macki Music Festival                    Île-de-France   \n",
       "4                             Play mobile                    Île-de-France   \n",
       "\n",
       "  Commune principale de déroulement  \\\n",
       "0                            Avoine   \n",
       "1                            Braine   \n",
       "2                        Carpentras   \n",
       "3               Carrières-sur-Seine   \n",
       "4                         Chatillon   \n",
       "\n",
       "                          Site internet du festival  \\\n",
       "0                           www.avoinezonegroove.fr   \n",
       "1                                https://braine.fr/   \n",
       "2                           www.soireesdautomne.com   \n",
       "3                https://www.mackimusicfestival.fr/   \n",
       "4  http://www.theatreachatillon.com/play-mobile.php   \n",
       "\n",
       "  Année de création du festival Discipline dominante  \\\n",
       "0                          2000              Musique   \n",
       "1                          2018   Pluridisciplinaire   \n",
       "2                           NaN              Musique   \n",
       "3                          2014              Musique   \n",
       "4              01/01/2016 00:00     Spectacle vivant   \n",
       "\n",
       "  Sous-catégorie spectacle vivant  \\\n",
       "0                             NaN   \n",
       "1                             NaN   \n",
       "2                             NaN   \n",
       "3                             NaN   \n",
       "4                  Arts de la rue   \n",
       "\n",
       "                              Sous-catégorie musique  \\\n",
       "0                                        Jazz, Blues   \n",
       "1                                                NaN   \n",
       "2                                                NaN   \n",
       "3  Musiques du monde, Musiques traditionnelles, R...   \n",
       "4                                                NaN   \n",
       "\n",
       "                 Sous-catégorie Musique CNM  \\\n",
       "0   07- Musiques actuelles sans distinction   \n",
       "1                                       NaN   \n",
       "2                    09- Pluridisciplinaire   \n",
       "3  02- Musiques amplifiées ou électroniques   \n",
       "4                                       NaN   \n",
       "\n",
       "  Sous-catégorie cinéma et audiovisuel  \\\n",
       "0                                  NaN   \n",
       "1                                  NaN   \n",
       "2                                  NaN   \n",
       "3                                  NaN   \n",
       "4                                  NaN   \n",
       "\n",
       "  Sous-catégorie arts visuels et arts numériques  \\\n",
       "0                                            NaN   \n",
       "1                                            NaN   \n",
       "2                                            NaN   \n",
       "3                                            NaN   \n",
       "4                                            NaN   \n",
       "\n",
       "  Sous-catégorie livre et littérature  \\\n",
       "0                                 NaN   \n",
       "1                                 NaN   \n",
       "2                                 NaN   \n",
       "3                                 NaN   \n",
       "4                                 NaN   \n",
       "\n",
       "  Période principale de déroulement du festival      Identifiant  \\\n",
       "0                Saison (21 juin - 5 septembre)   FEST_37011_550   \n",
       "1      Après-saison (6 septembre - 31 décembre)  FEST_02110_1021   \n",
       "2      Après-saison (6 septembre - 31 décembre)  FEST_84031_1284   \n",
       "3                Saison (21 juin - 5 septembre)  FEST_78124_1288   \n",
       "4          Avant-saison (1er janvier - 20 juin)  FEST_92020_1579   \n",
       "\n",
       "                   Géocodage xy  \n",
       "0  47.2237767737, 0.18754463005  \n",
       "1  49.3484719318, 3.53596629744  \n",
       "2  44.0593802565, 5.06134844776  \n",
       "3  48.9119335064, 2.17838235323  \n",
       "4  48.8034091756, 2.28799131883  "
      ]
     },
     "execution_count": 38,
     "metadata": {},
     "output_type": "execute_result"
    }
   ],
   "source": [
    "df.head(5)"
   ]
  },
  {
   "cell_type": "code",
   "execution_count": 39,
   "metadata": {},
   "outputs": [
    {
     "name": "stdout",
     "output_type": "stream",
     "text": [
      "<class 'pandas.core.frame.DataFrame'>\n",
      "RangeIndex: 7283 entries, 0 to 7282\n",
      "Data columns (total 15 columns):\n",
      " #   Column                                          Non-Null Count  Dtype \n",
      "---  ------                                          --------------  ----- \n",
      " 0   ﻿Nom du festival                                7283 non-null   object\n",
      " 1   Région principale de déroulement                7283 non-null   object\n",
      " 2   Commune principale de déroulement               7257 non-null   object\n",
      " 3   Site internet du festival                       6558 non-null   object\n",
      " 4   Année de création du festival                   5835 non-null   object\n",
      " 5   Discipline dominante                            7283 non-null   object\n",
      " 6   Sous-catégorie spectacle vivant                 1455 non-null   object\n",
      " 7   Sous-catégorie musique                          2619 non-null   object\n",
      " 8   Sous-catégorie Musique CNM                      958 non-null    object\n",
      " 9   Sous-catégorie cinéma et audiovisuel            498 non-null    object\n",
      " 10  Sous-catégorie arts visuels et arts numériques  280 non-null    object\n",
      " 11  Sous-catégorie livre et littérature             413 non-null    object\n",
      " 12  Période principale de déroulement du festival   7223 non-null   object\n",
      " 13  Identifiant                                     7283 non-null   object\n",
      " 14  Géocodage xy                                    7250 non-null   object\n",
      "dtypes: object(15)\n",
      "memory usage: 853.6+ KB\n"
     ]
    }
   ],
   "source": [
    "df.info()"
   ]
  },
  {
   "cell_type": "code",
   "execution_count": 40,
   "metadata": {},
   "outputs": [],
   "source": [
    "# Supprimer les lignes avec des valeurs NaN dans la colonne 'Période principale de déroulement du festival'\n",
    "df.dropna(subset=['Période principale de déroulement du festival'], inplace=True)"
   ]
  },
  {
   "cell_type": "code",
   "execution_count": 41,
   "metadata": {},
   "outputs": [],
   "source": [
    "# Supprimer les lignes avec des valeurs NaN dans la colonne 'Année de création du festival'\n",
    "df.dropna(subset=['Année de création du festival'], inplace=True)"
   ]
  },
  {
   "cell_type": "code",
   "execution_count": 42,
   "metadata": {},
   "outputs": [],
   "source": [
    "# Supprimer les lignes contenant des valeurs abberantes dans la colonne 'Année de création du festival'\n",
    "df = df[~df['Année de création du festival'].str.contains('ème|31564|ans')]"
   ]
  },
  {
   "cell_type": "markdown",
   "metadata": {},
   "source": [
    "Prendre seulement les festivales de l'été, C-à-d du 20 juin au 21 septembre"
   ]
  },
  {
   "cell_type": "code",
   "execution_count": 43,
   "metadata": {},
   "outputs": [],
   "source": [
    "# Supprimer les lignes contenant 'Après-saison' dans la colonne 'Période principale de déroulement du festival'\n",
    "df = df[~df['Période principale de déroulement du festival'].str.contains('Après-saison|après-saison')]"
   ]
  },
  {
   "cell_type": "code",
   "execution_count": 44,
   "metadata": {},
   "outputs": [],
   "source": [
    "# Supprimer les lignes contenant 'Avant-saison' dans la colonne 'Période principale de déroulement du festival'\n",
    "df = df[~df['Période principale de déroulement du festival'].str.contains('avant-saison|Avant-saison')]"
   ]
  },
  {
   "cell_type": "code",
   "execution_count": 45,
   "metadata": {},
   "outputs": [],
   "source": [
    "# supression les autres mois de l'année sauf juin juillet aout septembre\n",
    "df = df[~df['Période principale de déroulement du festival'].str.contains(\n",
    "    'Janvier|Février|Mars|Avril|Mai|Octobre|Ocotbre|Novembre|Décembre')]"
   ]
  },
  {
   "cell_type": "code",
   "execution_count": 46,
   "metadata": {},
   "outputs": [],
   "source": [
    "# drop de la colonne 'Periode...'\n",
    "df.drop(columns='Période principale de déroulement du festival' , inplace=True)"
   ]
  },
  {
   "cell_type": "code",
   "execution_count": 47,
   "metadata": {},
   "outputs": [],
   "source": [
    "# drop de la colonne 'Sous-catégorie Musique CNM'\n",
    "df.drop(columns='Sous-catégorie Musique CNM' , inplace=True)"
   ]
  },
  {
   "cell_type": "code",
   "execution_count": 48,
   "metadata": {},
   "outputs": [
    {
     "data": {
      "text/plain": [
       "array(['Musique', 'Spectacle vivant', 'Arts visuels, arts numériques',\n",
       "       'Cinéma, audiovisuel', 'Livre, littérature', 'Pluridisciplinaire'],\n",
       "      dtype=object)"
      ]
     },
     "execution_count": 48,
     "metadata": {},
     "output_type": "execute_result"
    }
   ],
   "source": [
    "df['Discipline dominante'].unique()"
   ]
  },
  {
   "cell_type": "code",
   "execution_count": 49,
   "metadata": {},
   "outputs": [],
   "source": [
    "# Supprimer les lignes contenant des festivales pluridiciplinaires \n",
    "df = df[~df['Discipline dominante'].str.contains('Pluridisciplinaire')]"
   ]
  },
  {
   "cell_type": "code",
   "execution_count": 50,
   "metadata": {},
   "outputs": [
    {
     "data": {
      "text/plain": [
       "Index(['﻿Nom du festival', 'Région principale de déroulement',\n",
       "       'Commune principale de déroulement', 'Site internet du festival',\n",
       "       'Année de création du festival', 'Discipline dominante',\n",
       "       'Sous-catégorie spectacle vivant', 'Sous-catégorie musique',\n",
       "       'Sous-catégorie cinéma et audiovisuel',\n",
       "       'Sous-catégorie arts visuels et arts numériques',\n",
       "       'Sous-catégorie livre et littérature', 'Identifiant', 'Géocodage xy'],\n",
       "      dtype='object')"
      ]
     },
     "execution_count": 50,
     "metadata": {},
     "output_type": "execute_result"
    }
   ],
   "source": [
    "df.columns"
   ]
  },
  {
   "cell_type": "code",
   "execution_count": 51,
   "metadata": {},
   "outputs": [],
   "source": [
    "# Renommer les colonne pour être plus parlant\n",
    "nouveaux_noms = { '﻿Nom du festival' : 'Nom_festival',\n",
    "    'Région principale de déroulement': 'Region',\n",
    "    'Commune principale de déroulement': 'Ville', \n",
    "    'Site internet du festival': 'Site_internet',\n",
    "    'Année de création du festival': 'Annee', \n",
    "    'Discipline dominante': 'Type',\n",
    "    'Sous-catégorie spectacle vivant': 'Spectacle_vivant', \n",
    "    'Sous-catégorie musique': 'Genre_musique',\n",
    "    'Sous-catégorie cinéma et audiovisuel': 'Cinema_audiovisuel',\n",
    "    'Sous-catégorie arts visuels et arts numériques': 'Art',\n",
    "    'Sous-catégorie livre et littérature': 'Livre_litterature', \n",
    "    'Identifiant': 'Id', \n",
    "    'Géocodage xy': 'Geocode'\n",
    "}\n",
    "df.rename(columns=nouveaux_noms, inplace=True)\n"
   ]
  },
  {
   "cell_type": "code",
   "execution_count": 52,
   "metadata": {},
   "outputs": [
    {
     "data": {
      "text/html": [
       "<div>\n",
       "<style scoped>\n",
       "    .dataframe tbody tr th:only-of-type {\n",
       "        vertical-align: middle;\n",
       "    }\n",
       "\n",
       "    .dataframe tbody tr th {\n",
       "        vertical-align: top;\n",
       "    }\n",
       "\n",
       "    .dataframe thead th {\n",
       "        text-align: right;\n",
       "    }\n",
       "</style>\n",
       "<table border=\"1\" class=\"dataframe\">\n",
       "  <thead>\n",
       "    <tr style=\"text-align: right;\">\n",
       "      <th></th>\n",
       "      <th>Nom_festival</th>\n",
       "      <th>Region</th>\n",
       "      <th>Ville</th>\n",
       "      <th>Site_internet</th>\n",
       "      <th>Annee</th>\n",
       "      <th>Type</th>\n",
       "      <th>Spectacle_vivant</th>\n",
       "      <th>Genre_musique</th>\n",
       "      <th>Cinema_audiovisuel</th>\n",
       "      <th>Art</th>\n",
       "      <th>Livre_litterature</th>\n",
       "      <th>Id</th>\n",
       "      <th>Geocode</th>\n",
       "    </tr>\n",
       "  </thead>\n",
       "  <tbody>\n",
       "    <tr>\n",
       "      <th>0</th>\n",
       "      <td>Avoine Zone Groove</td>\n",
       "      <td>Centre-Val de Loire</td>\n",
       "      <td>Avoine</td>\n",
       "      <td>www.avoinezonegroove.fr</td>\n",
       "      <td>2000</td>\n",
       "      <td>Musique</td>\n",
       "      <td>NaN</td>\n",
       "      <td>Jazz, Blues</td>\n",
       "      <td>NaN</td>\n",
       "      <td>NaN</td>\n",
       "      <td>NaN</td>\n",
       "      <td>FEST_37011_550</td>\n",
       "      <td>47.2237767737, 0.18754463005</td>\n",
       "    </tr>\n",
       "    <tr>\n",
       "      <th>3</th>\n",
       "      <td>Macki Music Festival</td>\n",
       "      <td>Île-de-France</td>\n",
       "      <td>Carrières-sur-Seine</td>\n",
       "      <td>https://www.mackimusicfestival.fr/</td>\n",
       "      <td>2014</td>\n",
       "      <td>Musique</td>\n",
       "      <td>NaN</td>\n",
       "      <td>Musiques du monde, Musiques traditionnelles, R...</td>\n",
       "      <td>NaN</td>\n",
       "      <td>NaN</td>\n",
       "      <td>NaN</td>\n",
       "      <td>FEST_78124_1288</td>\n",
       "      <td>48.9119335064, 2.17838235323</td>\n",
       "    </tr>\n",
       "    <tr>\n",
       "      <th>12</th>\n",
       "      <td>D'la samba dans les épinards</td>\n",
       "      <td>Normandie</td>\n",
       "      <td>Maromme</td>\n",
       "      <td>https://www.dlasambadanslesepinards.com</td>\n",
       "      <td>2019</td>\n",
       "      <td>Musique</td>\n",
       "      <td>NaN</td>\n",
       "      <td>NaN</td>\n",
       "      <td>NaN</td>\n",
       "      <td>NaN</td>\n",
       "      <td>NaN</td>\n",
       "      <td>FEST_76410_3674</td>\n",
       "      <td>49.4769434634, 1.03230514083</td>\n",
       "    </tr>\n",
       "    <tr>\n",
       "      <th>13</th>\n",
       "      <td>Des mots des étoiles</td>\n",
       "      <td>Provence-Alpes-Côte d'Azur</td>\n",
       "      <td>Marseille</td>\n",
       "      <td>https://desmotsdesetoiles.fr</td>\n",
       "      <td>2003</td>\n",
       "      <td>Spectacle vivant</td>\n",
       "      <td>NaN</td>\n",
       "      <td>NaN</td>\n",
       "      <td>NaN</td>\n",
       "      <td>NaN</td>\n",
       "      <td>NaN</td>\n",
       "      <td>FEST_13055_3705</td>\n",
       "      <td>43.296346, 5.369889</td>\n",
       "    </tr>\n",
       "    <tr>\n",
       "      <th>16</th>\n",
       "      <td>Imaginieul</td>\n",
       "      <td>Nouvelle-Aquitaine</td>\n",
       "      <td>Nieul</td>\n",
       "      <td>http://www.aurora-illusia.com/</td>\n",
       "      <td>2010</td>\n",
       "      <td>Spectacle vivant</td>\n",
       "      <td>Théâtre</td>\n",
       "      <td>NaN</td>\n",
       "      <td>NaN</td>\n",
       "      <td>NaN</td>\n",
       "      <td>NaN</td>\n",
       "      <td>FEST_87107_4416</td>\n",
       "      <td>45.9214559183, 1.18018067279</td>\n",
       "    </tr>\n",
       "    <tr>\n",
       "      <th>...</th>\n",
       "      <td>...</td>\n",
       "      <td>...</td>\n",
       "      <td>...</td>\n",
       "      <td>...</td>\n",
       "      <td>...</td>\n",
       "      <td>...</td>\n",
       "      <td>...</td>\n",
       "      <td>...</td>\n",
       "      <td>...</td>\n",
       "      <td>...</td>\n",
       "      <td>...</td>\n",
       "      <td>...</td>\n",
       "      <td>...</td>\n",
       "    </tr>\n",
       "    <tr>\n",
       "      <th>7265</th>\n",
       "      <td>Festival d'été : Briançon sous les étoiles</td>\n",
       "      <td>Provence-Alpes-Côte d'Azur</td>\n",
       "      <td>Briançon</td>\n",
       "      <td>http://www.ville-briancon.fr/evenements-phares</td>\n",
       "      <td>2021</td>\n",
       "      <td>Musique</td>\n",
       "      <td>NaN</td>\n",
       "      <td>Comédie musicale</td>\n",
       "      <td>NaN</td>\n",
       "      <td>NaN</td>\n",
       "      <td>NaN</td>\n",
       "      <td>FEST_05023_1067</td>\n",
       "      <td>44.8994986041, 6.64947524018</td>\n",
       "    </tr>\n",
       "    <tr>\n",
       "      <th>7271</th>\n",
       "      <td>Nuits Musicales en Vendée Romane</td>\n",
       "      <td>Pays de la Loire</td>\n",
       "      <td>Foussais-Payré</td>\n",
       "      <td>www.festival-vendee.com</td>\n",
       "      <td>1999</td>\n",
       "      <td>Musique</td>\n",
       "      <td>NaN</td>\n",
       "      <td>Musiques traditionnelles et du monde</td>\n",
       "      <td>NaN</td>\n",
       "      <td>NaN</td>\n",
       "      <td>NaN</td>\n",
       "      <td>FEST_85094_2307</td>\n",
       "      <td>46.5230750581, -0.687135962627</td>\n",
       "    </tr>\n",
       "    <tr>\n",
       "      <th>7273</th>\n",
       "      <td>Les journandises</td>\n",
       "      <td>Auvergne-Rhône-Alpes</td>\n",
       "      <td>Journans</td>\n",
       "      <td>www.journandises.com</td>\n",
       "      <td>2015</td>\n",
       "      <td>Arts visuels, arts numériques</td>\n",
       "      <td>NaN</td>\n",
       "      <td>NaN</td>\n",
       "      <td>NaN</td>\n",
       "      <td>Divers</td>\n",
       "      <td>NaN</td>\n",
       "      <td>FEST_01197_2675</td>\n",
       "      <td>46.1464982407, 5.33452833151</td>\n",
       "    </tr>\n",
       "    <tr>\n",
       "      <th>7281</th>\n",
       "      <td>Charlie jazz festival</td>\n",
       "      <td>Provence-Alpes-Côte d'Azur</td>\n",
       "      <td>Vitrolles</td>\n",
       "      <td>www.charlie-jazz.com</td>\n",
       "      <td>1997</td>\n",
       "      <td>Musique</td>\n",
       "      <td>NaN</td>\n",
       "      <td>Jazz, blues</td>\n",
       "      <td>NaN</td>\n",
       "      <td>NaN</td>\n",
       "      <td>NaN</td>\n",
       "      <td>FEST_13117_7169</td>\n",
       "      <td>43.4497831674, 5.26357787665</td>\n",
       "    </tr>\n",
       "    <tr>\n",
       "      <th>7282</th>\n",
       "      <td>Festival Musicalta</td>\n",
       "      <td>Grand Est</td>\n",
       "      <td>Pfaffenheim</td>\n",
       "      <td>https://www.musicalta.com/</td>\n",
       "      <td>2001</td>\n",
       "      <td>Musique</td>\n",
       "      <td>NaN</td>\n",
       "      <td>Musique classique, Musique de répertoire</td>\n",
       "      <td>NaN</td>\n",
       "      <td>NaN</td>\n",
       "      <td>NaN</td>\n",
       "      <td>FEST__7284</td>\n",
       "      <td>NaN</td>\n",
       "    </tr>\n",
       "  </tbody>\n",
       "</table>\n",
       "<p>2076 rows × 13 columns</p>\n",
       "</div>"
      ],
      "text/plain": [
       "                                    Nom_festival                      Region  \\\n",
       "0                             Avoine Zone Groove         Centre-Val de Loire   \n",
       "3                           Macki Music Festival               Île-de-France   \n",
       "12                  D'la samba dans les épinards                   Normandie   \n",
       "13                          Des mots des étoiles  Provence-Alpes-Côte d'Azur   \n",
       "16                                    Imaginieul          Nouvelle-Aquitaine   \n",
       "...                                          ...                         ...   \n",
       "7265  Festival d'été : Briançon sous les étoiles  Provence-Alpes-Côte d'Azur   \n",
       "7271            Nuits Musicales en Vendée Romane            Pays de la Loire   \n",
       "7273                            Les journandises        Auvergne-Rhône-Alpes   \n",
       "7281                       Charlie jazz festival  Provence-Alpes-Côte d'Azur   \n",
       "7282                          Festival Musicalta                   Grand Est   \n",
       "\n",
       "                    Ville                                   Site_internet  \\\n",
       "0                  Avoine                         www.avoinezonegroove.fr   \n",
       "3     Carrières-sur-Seine              https://www.mackimusicfestival.fr/   \n",
       "12                Maromme         https://www.dlasambadanslesepinards.com   \n",
       "13              Marseille                    https://desmotsdesetoiles.fr   \n",
       "16                  Nieul                  http://www.aurora-illusia.com/   \n",
       "...                   ...                                             ...   \n",
       "7265             Briançon  http://www.ville-briancon.fr/evenements-phares   \n",
       "7271       Foussais-Payré                         www.festival-vendee.com   \n",
       "7273             Journans                            www.journandises.com   \n",
       "7281            Vitrolles                            www.charlie-jazz.com   \n",
       "7282          Pfaffenheim                      https://www.musicalta.com/   \n",
       "\n",
       "     Annee                           Type Spectacle_vivant  \\\n",
       "0     2000                        Musique              NaN   \n",
       "3     2014                        Musique              NaN   \n",
       "12    2019                        Musique              NaN   \n",
       "13    2003               Spectacle vivant              NaN   \n",
       "16    2010               Spectacle vivant          Théâtre   \n",
       "...    ...                            ...              ...   \n",
       "7265  2021                        Musique              NaN   \n",
       "7271  1999                        Musique              NaN   \n",
       "7273  2015  Arts visuels, arts numériques              NaN   \n",
       "7281  1997                        Musique              NaN   \n",
       "7282  2001                        Musique              NaN   \n",
       "\n",
       "                                          Genre_musique Cinema_audiovisuel  \\\n",
       "0                                           Jazz, Blues                NaN   \n",
       "3     Musiques du monde, Musiques traditionnelles, R...                NaN   \n",
       "12                                                  NaN                NaN   \n",
       "13                                                  NaN                NaN   \n",
       "16                                                  NaN                NaN   \n",
       "...                                                 ...                ...   \n",
       "7265                                   Comédie musicale                NaN   \n",
       "7271               Musiques traditionnelles et du monde                NaN   \n",
       "7273                                                NaN                NaN   \n",
       "7281                                        Jazz, blues                NaN   \n",
       "7282           Musique classique, Musique de répertoire                NaN   \n",
       "\n",
       "         Art Livre_litterature               Id  \\\n",
       "0        NaN               NaN   FEST_37011_550   \n",
       "3        NaN               NaN  FEST_78124_1288   \n",
       "12       NaN               NaN  FEST_76410_3674   \n",
       "13       NaN               NaN  FEST_13055_3705   \n",
       "16       NaN               NaN  FEST_87107_4416   \n",
       "...      ...               ...              ...   \n",
       "7265     NaN               NaN  FEST_05023_1067   \n",
       "7271     NaN               NaN  FEST_85094_2307   \n",
       "7273  Divers               NaN  FEST_01197_2675   \n",
       "7281     NaN               NaN  FEST_13117_7169   \n",
       "7282     NaN               NaN       FEST__7284   \n",
       "\n",
       "                             Geocode  \n",
       "0       47.2237767737, 0.18754463005  \n",
       "3       48.9119335064, 2.17838235323  \n",
       "12      49.4769434634, 1.03230514083  \n",
       "13               43.296346, 5.369889  \n",
       "16      45.9214559183, 1.18018067279  \n",
       "...                              ...  \n",
       "7265    44.8994986041, 6.64947524018  \n",
       "7271  46.5230750581, -0.687135962627  \n",
       "7273    46.1464982407, 5.33452833151  \n",
       "7281    43.4497831674, 5.26357787665  \n",
       "7282                             NaN  \n",
       "\n",
       "[2076 rows x 13 columns]"
      ]
     },
     "execution_count": 52,
     "metadata": {},
     "output_type": "execute_result"
    }
   ],
   "source": [
    "df"
   ]
  },
  {
   "cell_type": "code",
   "execution_count": 53,
   "metadata": {},
   "outputs": [
    {
     "name": "stdout",
     "output_type": "stream",
     "text": [
      "Index(['Nom_festival', 'Region', 'Ville', 'Site_internet', 'Annee', 'Type',\n",
      "       'Spectacle_vivant', 'Genre_musique', 'Cinema_audiovisuel', 'Art',\n",
      "       'Livre_litterature', 'Id', 'Geocode'],\n",
      "      dtype='object')\n"
     ]
    }
   ],
   "source": [
    "print(df.columns)"
   ]
  },
  {
   "cell_type": "code",
   "execution_count": 54,
   "metadata": {},
   "outputs": [],
   "source": [
    "# Changer l'ordre des colonnes\n",
    "ordre = ['Id','Nom_festival', 'Type', 'Region', 'Ville', 'Geocode', 'Annee', 'Site_internet',\n",
    "                      'Genre_musique', 'Spectacle_vivant', 'Cinema_audiovisuel', 'Art', 'Livre_litterature']\n",
    "df = df[ordre]"
   ]
  },
  {
   "cell_type": "code",
   "execution_count": 55,
   "metadata": {},
   "outputs": [
    {
     "data": {
      "text/html": [
       "<div>\n",
       "<style scoped>\n",
       "    .dataframe tbody tr th:only-of-type {\n",
       "        vertical-align: middle;\n",
       "    }\n",
       "\n",
       "    .dataframe tbody tr th {\n",
       "        vertical-align: top;\n",
       "    }\n",
       "\n",
       "    .dataframe thead th {\n",
       "        text-align: right;\n",
       "    }\n",
       "</style>\n",
       "<table border=\"1\" class=\"dataframe\">\n",
       "  <thead>\n",
       "    <tr style=\"text-align: right;\">\n",
       "      <th></th>\n",
       "      <th>Id</th>\n",
       "      <th>Nom_festival</th>\n",
       "      <th>Type</th>\n",
       "      <th>Region</th>\n",
       "      <th>Ville</th>\n",
       "      <th>Geocode</th>\n",
       "      <th>Annee</th>\n",
       "      <th>Site_internet</th>\n",
       "      <th>Genre_musique</th>\n",
       "      <th>Spectacle_vivant</th>\n",
       "      <th>Cinema_audiovisuel</th>\n",
       "      <th>Art</th>\n",
       "      <th>Livre_litterature</th>\n",
       "    </tr>\n",
       "  </thead>\n",
       "  <tbody>\n",
       "    <tr>\n",
       "      <th>0</th>\n",
       "      <td>FEST_37011_550</td>\n",
       "      <td>Avoine Zone Groove</td>\n",
       "      <td>Musique</td>\n",
       "      <td>Centre-Val de Loire</td>\n",
       "      <td>Avoine</td>\n",
       "      <td>47.2237767737, 0.18754463005</td>\n",
       "      <td>2000</td>\n",
       "      <td>www.avoinezonegroove.fr</td>\n",
       "      <td>Jazz, Blues</td>\n",
       "      <td>NaN</td>\n",
       "      <td>NaN</td>\n",
       "      <td>NaN</td>\n",
       "      <td>NaN</td>\n",
       "    </tr>\n",
       "    <tr>\n",
       "      <th>3</th>\n",
       "      <td>FEST_78124_1288</td>\n",
       "      <td>Macki Music Festival</td>\n",
       "      <td>Musique</td>\n",
       "      <td>Île-de-France</td>\n",
       "      <td>Carrières-sur-Seine</td>\n",
       "      <td>48.9119335064, 2.17838235323</td>\n",
       "      <td>2014</td>\n",
       "      <td>https://www.mackimusicfestival.fr/</td>\n",
       "      <td>Musiques du monde, Musiques traditionnelles, R...</td>\n",
       "      <td>NaN</td>\n",
       "      <td>NaN</td>\n",
       "      <td>NaN</td>\n",
       "      <td>NaN</td>\n",
       "    </tr>\n",
       "    <tr>\n",
       "      <th>12</th>\n",
       "      <td>FEST_76410_3674</td>\n",
       "      <td>D'la samba dans les épinards</td>\n",
       "      <td>Musique</td>\n",
       "      <td>Normandie</td>\n",
       "      <td>Maromme</td>\n",
       "      <td>49.4769434634, 1.03230514083</td>\n",
       "      <td>2019</td>\n",
       "      <td>https://www.dlasambadanslesepinards.com</td>\n",
       "      <td>NaN</td>\n",
       "      <td>NaN</td>\n",
       "      <td>NaN</td>\n",
       "      <td>NaN</td>\n",
       "      <td>NaN</td>\n",
       "    </tr>\n",
       "    <tr>\n",
       "      <th>13</th>\n",
       "      <td>FEST_13055_3705</td>\n",
       "      <td>Des mots des étoiles</td>\n",
       "      <td>Spectacle vivant</td>\n",
       "      <td>Provence-Alpes-Côte d'Azur</td>\n",
       "      <td>Marseille</td>\n",
       "      <td>43.296346, 5.369889</td>\n",
       "      <td>2003</td>\n",
       "      <td>https://desmotsdesetoiles.fr</td>\n",
       "      <td>NaN</td>\n",
       "      <td>NaN</td>\n",
       "      <td>NaN</td>\n",
       "      <td>NaN</td>\n",
       "      <td>NaN</td>\n",
       "    </tr>\n",
       "    <tr>\n",
       "      <th>16</th>\n",
       "      <td>FEST_87107_4416</td>\n",
       "      <td>Imaginieul</td>\n",
       "      <td>Spectacle vivant</td>\n",
       "      <td>Nouvelle-Aquitaine</td>\n",
       "      <td>Nieul</td>\n",
       "      <td>45.9214559183, 1.18018067279</td>\n",
       "      <td>2010</td>\n",
       "      <td>http://www.aurora-illusia.com/</td>\n",
       "      <td>NaN</td>\n",
       "      <td>Théâtre</td>\n",
       "      <td>NaN</td>\n",
       "      <td>NaN</td>\n",
       "      <td>NaN</td>\n",
       "    </tr>\n",
       "  </tbody>\n",
       "</table>\n",
       "</div>"
      ],
      "text/plain": [
       "                 Id                  Nom_festival              Type  \\\n",
       "0    FEST_37011_550            Avoine Zone Groove           Musique   \n",
       "3   FEST_78124_1288          Macki Music Festival           Musique   \n",
       "12  FEST_76410_3674  D'la samba dans les épinards           Musique   \n",
       "13  FEST_13055_3705          Des mots des étoiles  Spectacle vivant   \n",
       "16  FEST_87107_4416                    Imaginieul  Spectacle vivant   \n",
       "\n",
       "                        Region                Ville  \\\n",
       "0          Centre-Val de Loire               Avoine   \n",
       "3                Île-de-France  Carrières-sur-Seine   \n",
       "12                   Normandie              Maromme   \n",
       "13  Provence-Alpes-Côte d'Azur            Marseille   \n",
       "16          Nouvelle-Aquitaine                Nieul   \n",
       "\n",
       "                         Geocode Annee  \\\n",
       "0   47.2237767737, 0.18754463005  2000   \n",
       "3   48.9119335064, 2.17838235323  2014   \n",
       "12  49.4769434634, 1.03230514083  2019   \n",
       "13           43.296346, 5.369889  2003   \n",
       "16  45.9214559183, 1.18018067279  2010   \n",
       "\n",
       "                              Site_internet  \\\n",
       "0                   www.avoinezonegroove.fr   \n",
       "3        https://www.mackimusicfestival.fr/   \n",
       "12  https://www.dlasambadanslesepinards.com   \n",
       "13             https://desmotsdesetoiles.fr   \n",
       "16           http://www.aurora-illusia.com/   \n",
       "\n",
       "                                        Genre_musique Spectacle_vivant  \\\n",
       "0                                         Jazz, Blues              NaN   \n",
       "3   Musiques du monde, Musiques traditionnelles, R...              NaN   \n",
       "12                                                NaN              NaN   \n",
       "13                                                NaN              NaN   \n",
       "16                                                NaN          Théâtre   \n",
       "\n",
       "   Cinema_audiovisuel  Art Livre_litterature  \n",
       "0                 NaN  NaN               NaN  \n",
       "3                 NaN  NaN               NaN  \n",
       "12                NaN  NaN               NaN  \n",
       "13                NaN  NaN               NaN  \n",
       "16                NaN  NaN               NaN  "
      ]
     },
     "execution_count": 55,
     "metadata": {},
     "output_type": "execute_result"
    }
   ],
   "source": [
    "df.head(5)"
   ]
  },
  {
   "cell_type": "code",
   "execution_count": 56,
   "metadata": {},
   "outputs": [
    {
     "data": {
      "text/plain": [
       "array(['Centre-Val de Loire', 'Île-de-France', 'Normandie',\n",
       "       \"Provence-Alpes-Côte d'Azur\", 'Nouvelle-Aquitaine', 'Grand Est',\n",
       "       'Occitanie', 'Pays de la Loire', 'Auvergne-Rhône-Alpes',\n",
       "       'Bretagne', 'Bourgogne-Franche-Comté', 'Hauts-de-France',\n",
       "       'Polynésie française', 'Corse', 'Guadeloupe', 'La Réunion',\n",
       "       'Nouvelle-Calédonie', 'Guyane', 'Martinique', 'Mayotte'],\n",
       "      dtype=object)"
      ]
     },
     "execution_count": 56,
     "metadata": {},
     "output_type": "execute_result"
    }
   ],
   "source": [
    "df.Region.unique()"
   ]
  },
  {
   "cell_type": "code",
   "execution_count": 1,
   "metadata": {},
   "outputs": [
    {
     "ename": "NameError",
     "evalue": "name 'df' is not defined",
     "output_type": "error",
     "traceback": [
      "\u001b[0;31m---------------------------------------------------------------------------\u001b[0m",
      "\u001b[0;31mNameError\u001b[0m                                 Traceback (most recent call last)",
      "Cell \u001b[0;32mIn[1], line 4\u001b[0m\n\u001b[1;32m      2\u001b[0m \u001b[38;5;28;01mimport\u001b[39;00m \u001b[38;5;21;01mfolium\u001b[39;00m\n\u001b[1;32m      3\u001b[0m \u001b[38;5;66;03m# Assurer que toutes les données de 'Geocode' sont des chaînes\u001b[39;00m\n\u001b[0;32m----> 4\u001b[0m df[\u001b[38;5;124m'\u001b[39m\u001b[38;5;124mGeocode\u001b[39m\u001b[38;5;124m'\u001b[39m] \u001b[38;5;241m=\u001b[39m df[\u001b[38;5;124m'\u001b[39m\u001b[38;5;124mGeocode\u001b[39m\u001b[38;5;124m'\u001b[39m]\u001b[38;5;241m.\u001b[39mastype(\u001b[38;5;28mstr\u001b[39m)\n\u001b[1;32m      6\u001b[0m \u001b[38;5;66;03m# Filtrer les entrées mal formatées ou avec 'nan' (généré par None en str)\u001b[39;00m\n\u001b[1;32m      7\u001b[0m df \u001b[38;5;241m=\u001b[39m df[df[\u001b[38;5;124m'\u001b[39m\u001b[38;5;124mGeocode\u001b[39m\u001b[38;5;124m'\u001b[39m]\u001b[38;5;241m.\u001b[39mstr\u001b[38;5;241m.\u001b[39mcontains(\u001b[38;5;124m'\u001b[39m\u001b[38;5;124m,\u001b[39m\u001b[38;5;124m'\u001b[39m)]\n",
      "\u001b[0;31mNameError\u001b[0m: name 'df' is not defined"
     ]
    }
   ],
   "source": [
    "'''# Créer une carte centrée sur la France\n",
    "import folium\n",
    "# Assurer que toutes les données de 'Geocode' sont des chaînes\n",
    "df['Geocode'] = df['Geocode'].astype(str)\n",
    "\n",
    "# Filtrer les entrées mal formatées ou avec 'nan' (généré par None en str)\n",
    "df = df[df['Geocode'].str.contains(',')]\n",
    "\n",
    "# Créer une carte centrée sur la France\n",
    "carte = folium.Map(location=[46.603354, 1.888334], zoom_start=6)\n",
    "\n",
    "# Ajouter des marqueurs pour chaque position géographique valide\n",
    "for index, row in df.iterrows():\n",
    "    geocode = row['Geocode'].split(',')\n",
    "    if len(geocode) == 2:  # Vérifiez que vous avez exactement deux parties après split\n",
    "        lat = float(geocode[0].strip())\n",
    "        lon = float(geocode[1].strip())\n",
    "        nom_festival = row['Nom du festival']\n",
    "        folium.Marker(location=[lat, lon], popup=nom_festival).add_to(carte)\n",
    "\n",
    "# Afficher la carte\n",
    "carte.save(\"carte_france.html\")  # Enregistre la carte au format HTML\n",
    "carte  # Affiche la carte si vous êtes dans un environnement Jupyter Notebook'''"
   ]
  },
  {
   "cell_type": "code",
   "execution_count": 58,
   "metadata": {},
   "outputs": [],
   "source": [
    "df.to_csv('premier_df_clean.csv', index=False)"
   ]
  },
  {
   "cell_type": "code",
   "execution_count": 59,
   "metadata": {},
   "outputs": [],
   "source": [
    "df_new = pd.read_csv('premier_df_clean.csv')"
   ]
  },
  {
   "cell_type": "code",
   "execution_count": 103,
   "metadata": {},
   "outputs": [
    {
     "data": {
      "application/vnd.plotly.v1+json": {
       "config": {
        "plotlyServerURL": "https://plot.ly"
       },
       "data": [
        {
         "alignmentgroup": "True",
         "hovertemplate": "Region=%{x}<br>Nombre de festivals=%{y}<extra></extra>",
         "legendgroup": "",
         "marker": {
          "color": "rgb(231, 250, 90)",
          "pattern": {
           "shape": ""
          }
         },
         "name": "",
         "offsetgroup": "",
         "orientation": "v",
         "showlegend": false,
         "textposition": "outside",
         "texttemplate": "%{y}",
         "type": "bar",
         "x": [
          "Nouvelle-Aquitaine",
          "Provence-Alpes-Côte d'Azur",
          "Occitanie",
          "Auvergne-Rhône-Alpes",
          "Bourgogne-Franche-Comté",
          "Bretagne",
          "Centre-Val de Loire",
          "Pays de la Loire",
          "Grand Est",
          "Île-de-France"
         ],
         "xaxis": "x",
         "y": [
          365,
          273,
          269,
          191,
          180,
          134,
          119,
          115,
          101,
          101
         ],
         "yaxis": "y"
        }
       ],
       "layout": {
        "barmode": "relative",
        "legend": {
         "tracegroupgap": 0
        },
        "template": {
         "data": {
          "bar": [
           {
            "error_x": {
             "color": "#2a3f5f"
            },
            "error_y": {
             "color": "#2a3f5f"
            },
            "marker": {
             "line": {
              "color": "#E5ECF6",
              "width": 0.5
             },
             "pattern": {
              "fillmode": "overlay",
              "size": 10,
              "solidity": 0.2
             }
            },
            "type": "bar"
           }
          ],
          "barpolar": [
           {
            "marker": {
             "line": {
              "color": "#E5ECF6",
              "width": 0.5
             },
             "pattern": {
              "fillmode": "overlay",
              "size": 10,
              "solidity": 0.2
             }
            },
            "type": "barpolar"
           }
          ],
          "carpet": [
           {
            "aaxis": {
             "endlinecolor": "#2a3f5f",
             "gridcolor": "white",
             "linecolor": "white",
             "minorgridcolor": "white",
             "startlinecolor": "#2a3f5f"
            },
            "baxis": {
             "endlinecolor": "#2a3f5f",
             "gridcolor": "white",
             "linecolor": "white",
             "minorgridcolor": "white",
             "startlinecolor": "#2a3f5f"
            },
            "type": "carpet"
           }
          ],
          "choropleth": [
           {
            "colorbar": {
             "outlinewidth": 0,
             "ticks": ""
            },
            "type": "choropleth"
           }
          ],
          "contour": [
           {
            "colorbar": {
             "outlinewidth": 0,
             "ticks": ""
            },
            "colorscale": [
             [
              0,
              "#0d0887"
             ],
             [
              0.1111111111111111,
              "#46039f"
             ],
             [
              0.2222222222222222,
              "#7201a8"
             ],
             [
              0.3333333333333333,
              "#9c179e"
             ],
             [
              0.4444444444444444,
              "#bd3786"
             ],
             [
              0.5555555555555556,
              "#d8576b"
             ],
             [
              0.6666666666666666,
              "#ed7953"
             ],
             [
              0.7777777777777778,
              "#fb9f3a"
             ],
             [
              0.8888888888888888,
              "#fdca26"
             ],
             [
              1,
              "#f0f921"
             ]
            ],
            "type": "contour"
           }
          ],
          "contourcarpet": [
           {
            "colorbar": {
             "outlinewidth": 0,
             "ticks": ""
            },
            "type": "contourcarpet"
           }
          ],
          "heatmap": [
           {
            "colorbar": {
             "outlinewidth": 0,
             "ticks": ""
            },
            "colorscale": [
             [
              0,
              "#0d0887"
             ],
             [
              0.1111111111111111,
              "#46039f"
             ],
             [
              0.2222222222222222,
              "#7201a8"
             ],
             [
              0.3333333333333333,
              "#9c179e"
             ],
             [
              0.4444444444444444,
              "#bd3786"
             ],
             [
              0.5555555555555556,
              "#d8576b"
             ],
             [
              0.6666666666666666,
              "#ed7953"
             ],
             [
              0.7777777777777778,
              "#fb9f3a"
             ],
             [
              0.8888888888888888,
              "#fdca26"
             ],
             [
              1,
              "#f0f921"
             ]
            ],
            "type": "heatmap"
           }
          ],
          "heatmapgl": [
           {
            "colorbar": {
             "outlinewidth": 0,
             "ticks": ""
            },
            "colorscale": [
             [
              0,
              "#0d0887"
             ],
             [
              0.1111111111111111,
              "#46039f"
             ],
             [
              0.2222222222222222,
              "#7201a8"
             ],
             [
              0.3333333333333333,
              "#9c179e"
             ],
             [
              0.4444444444444444,
              "#bd3786"
             ],
             [
              0.5555555555555556,
              "#d8576b"
             ],
             [
              0.6666666666666666,
              "#ed7953"
             ],
             [
              0.7777777777777778,
              "#fb9f3a"
             ],
             [
              0.8888888888888888,
              "#fdca26"
             ],
             [
              1,
              "#f0f921"
             ]
            ],
            "type": "heatmapgl"
           }
          ],
          "histogram": [
           {
            "marker": {
             "pattern": {
              "fillmode": "overlay",
              "size": 10,
              "solidity": 0.2
             }
            },
            "type": "histogram"
           }
          ],
          "histogram2d": [
           {
            "colorbar": {
             "outlinewidth": 0,
             "ticks": ""
            },
            "colorscale": [
             [
              0,
              "#0d0887"
             ],
             [
              0.1111111111111111,
              "#46039f"
             ],
             [
              0.2222222222222222,
              "#7201a8"
             ],
             [
              0.3333333333333333,
              "#9c179e"
             ],
             [
              0.4444444444444444,
              "#bd3786"
             ],
             [
              0.5555555555555556,
              "#d8576b"
             ],
             [
              0.6666666666666666,
              "#ed7953"
             ],
             [
              0.7777777777777778,
              "#fb9f3a"
             ],
             [
              0.8888888888888888,
              "#fdca26"
             ],
             [
              1,
              "#f0f921"
             ]
            ],
            "type": "histogram2d"
           }
          ],
          "histogram2dcontour": [
           {
            "colorbar": {
             "outlinewidth": 0,
             "ticks": ""
            },
            "colorscale": [
             [
              0,
              "#0d0887"
             ],
             [
              0.1111111111111111,
              "#46039f"
             ],
             [
              0.2222222222222222,
              "#7201a8"
             ],
             [
              0.3333333333333333,
              "#9c179e"
             ],
             [
              0.4444444444444444,
              "#bd3786"
             ],
             [
              0.5555555555555556,
              "#d8576b"
             ],
             [
              0.6666666666666666,
              "#ed7953"
             ],
             [
              0.7777777777777778,
              "#fb9f3a"
             ],
             [
              0.8888888888888888,
              "#fdca26"
             ],
             [
              1,
              "#f0f921"
             ]
            ],
            "type": "histogram2dcontour"
           }
          ],
          "mesh3d": [
           {
            "colorbar": {
             "outlinewidth": 0,
             "ticks": ""
            },
            "type": "mesh3d"
           }
          ],
          "parcoords": [
           {
            "line": {
             "colorbar": {
              "outlinewidth": 0,
              "ticks": ""
             }
            },
            "type": "parcoords"
           }
          ],
          "pie": [
           {
            "automargin": true,
            "type": "pie"
           }
          ],
          "scatter": [
           {
            "fillpattern": {
             "fillmode": "overlay",
             "size": 10,
             "solidity": 0.2
            },
            "type": "scatter"
           }
          ],
          "scatter3d": [
           {
            "line": {
             "colorbar": {
              "outlinewidth": 0,
              "ticks": ""
             }
            },
            "marker": {
             "colorbar": {
              "outlinewidth": 0,
              "ticks": ""
             }
            },
            "type": "scatter3d"
           }
          ],
          "scattercarpet": [
           {
            "marker": {
             "colorbar": {
              "outlinewidth": 0,
              "ticks": ""
             }
            },
            "type": "scattercarpet"
           }
          ],
          "scattergeo": [
           {
            "marker": {
             "colorbar": {
              "outlinewidth": 0,
              "ticks": ""
             }
            },
            "type": "scattergeo"
           }
          ],
          "scattergl": [
           {
            "marker": {
             "colorbar": {
              "outlinewidth": 0,
              "ticks": ""
             }
            },
            "type": "scattergl"
           }
          ],
          "scattermapbox": [
           {
            "marker": {
             "colorbar": {
              "outlinewidth": 0,
              "ticks": ""
             }
            },
            "type": "scattermapbox"
           }
          ],
          "scatterpolar": [
           {
            "marker": {
             "colorbar": {
              "outlinewidth": 0,
              "ticks": ""
             }
            },
            "type": "scatterpolar"
           }
          ],
          "scatterpolargl": [
           {
            "marker": {
             "colorbar": {
              "outlinewidth": 0,
              "ticks": ""
             }
            },
            "type": "scatterpolargl"
           }
          ],
          "scatterternary": [
           {
            "marker": {
             "colorbar": {
              "outlinewidth": 0,
              "ticks": ""
             }
            },
            "type": "scatterternary"
           }
          ],
          "surface": [
           {
            "colorbar": {
             "outlinewidth": 0,
             "ticks": ""
            },
            "colorscale": [
             [
              0,
              "#0d0887"
             ],
             [
              0.1111111111111111,
              "#46039f"
             ],
             [
              0.2222222222222222,
              "#7201a8"
             ],
             [
              0.3333333333333333,
              "#9c179e"
             ],
             [
              0.4444444444444444,
              "#bd3786"
             ],
             [
              0.5555555555555556,
              "#d8576b"
             ],
             [
              0.6666666666666666,
              "#ed7953"
             ],
             [
              0.7777777777777778,
              "#fb9f3a"
             ],
             [
              0.8888888888888888,
              "#fdca26"
             ],
             [
              1,
              "#f0f921"
             ]
            ],
            "type": "surface"
           }
          ],
          "table": [
           {
            "cells": {
             "fill": {
              "color": "#EBF0F8"
             },
             "line": {
              "color": "white"
             }
            },
            "header": {
             "fill": {
              "color": "#C8D4E3"
             },
             "line": {
              "color": "white"
             }
            },
            "type": "table"
           }
          ]
         },
         "layout": {
          "annotationdefaults": {
           "arrowcolor": "#2a3f5f",
           "arrowhead": 0,
           "arrowwidth": 1
          },
          "autotypenumbers": "strict",
          "coloraxis": {
           "colorbar": {
            "outlinewidth": 0,
            "ticks": ""
           }
          },
          "colorscale": {
           "diverging": [
            [
             0,
             "#8e0152"
            ],
            [
             0.1,
             "#c51b7d"
            ],
            [
             0.2,
             "#de77ae"
            ],
            [
             0.3,
             "#f1b6da"
            ],
            [
             0.4,
             "#fde0ef"
            ],
            [
             0.5,
             "#f7f7f7"
            ],
            [
             0.6,
             "#e6f5d0"
            ],
            [
             0.7,
             "#b8e186"
            ],
            [
             0.8,
             "#7fbc41"
            ],
            [
             0.9,
             "#4d9221"
            ],
            [
             1,
             "#276419"
            ]
           ],
           "sequential": [
            [
             0,
             "#0d0887"
            ],
            [
             0.1111111111111111,
             "#46039f"
            ],
            [
             0.2222222222222222,
             "#7201a8"
            ],
            [
             0.3333333333333333,
             "#9c179e"
            ],
            [
             0.4444444444444444,
             "#bd3786"
            ],
            [
             0.5555555555555556,
             "#d8576b"
            ],
            [
             0.6666666666666666,
             "#ed7953"
            ],
            [
             0.7777777777777778,
             "#fb9f3a"
            ],
            [
             0.8888888888888888,
             "#fdca26"
            ],
            [
             1,
             "#f0f921"
            ]
           ],
           "sequentialminus": [
            [
             0,
             "#0d0887"
            ],
            [
             0.1111111111111111,
             "#46039f"
            ],
            [
             0.2222222222222222,
             "#7201a8"
            ],
            [
             0.3333333333333333,
             "#9c179e"
            ],
            [
             0.4444444444444444,
             "#bd3786"
            ],
            [
             0.5555555555555556,
             "#d8576b"
            ],
            [
             0.6666666666666666,
             "#ed7953"
            ],
            [
             0.7777777777777778,
             "#fb9f3a"
            ],
            [
             0.8888888888888888,
             "#fdca26"
            ],
            [
             1,
             "#f0f921"
            ]
           ]
          },
          "colorway": [
           "#636efa",
           "#EF553B",
           "#00cc96",
           "#ab63fa",
           "#FFA15A",
           "#19d3f3",
           "#FF6692",
           "#B6E880",
           "#FF97FF",
           "#FECB52"
          ],
          "font": {
           "color": "#2a3f5f"
          },
          "geo": {
           "bgcolor": "white",
           "lakecolor": "white",
           "landcolor": "#E5ECF6",
           "showlakes": true,
           "showland": true,
           "subunitcolor": "white"
          },
          "hoverlabel": {
           "align": "left"
          },
          "hovermode": "closest",
          "mapbox": {
           "style": "light"
          },
          "paper_bgcolor": "white",
          "plot_bgcolor": "#E5ECF6",
          "polar": {
           "angularaxis": {
            "gridcolor": "white",
            "linecolor": "white",
            "ticks": ""
           },
           "bgcolor": "#E5ECF6",
           "radialaxis": {
            "gridcolor": "white",
            "linecolor": "white",
            "ticks": ""
           }
          },
          "scene": {
           "xaxis": {
            "backgroundcolor": "#E5ECF6",
            "gridcolor": "white",
            "gridwidth": 2,
            "linecolor": "white",
            "showbackground": true,
            "ticks": "",
            "zerolinecolor": "white"
           },
           "yaxis": {
            "backgroundcolor": "#E5ECF6",
            "gridcolor": "white",
            "gridwidth": 2,
            "linecolor": "white",
            "showbackground": true,
            "ticks": "",
            "zerolinecolor": "white"
           },
           "zaxis": {
            "backgroundcolor": "#E5ECF6",
            "gridcolor": "white",
            "gridwidth": 2,
            "linecolor": "white",
            "showbackground": true,
            "ticks": "",
            "zerolinecolor": "white"
           }
          },
          "shapedefaults": {
           "line": {
            "color": "#2a3f5f"
           }
          },
          "ternary": {
           "aaxis": {
            "gridcolor": "white",
            "linecolor": "white",
            "ticks": ""
           },
           "baxis": {
            "gridcolor": "white",
            "linecolor": "white",
            "ticks": ""
           },
           "bgcolor": "#E5ECF6",
           "caxis": {
            "gridcolor": "white",
            "linecolor": "white",
            "ticks": ""
           }
          },
          "title": {
           "x": 0.05
          },
          "xaxis": {
           "automargin": true,
           "gridcolor": "white",
           "linecolor": "white",
           "ticks": "",
           "title": {
            "standoff": 15
           },
           "zerolinecolor": "white",
           "zerolinewidth": 2
          },
          "yaxis": {
           "automargin": true,
           "gridcolor": "white",
           "linecolor": "white",
           "ticks": "",
           "title": {
            "standoff": 15
           },
           "zerolinecolor": "white",
           "zerolinewidth": 2
          }
         }
        },
        "title": {
         "text": "Top 10 des régions avec le plus grand nombre de festivals"
        },
        "xaxis": {
         "anchor": "y",
         "domain": [
          0,
          1
         ],
         "title": {
          "text": "Region"
         }
        },
        "yaxis": {
         "anchor": "x",
         "domain": [
          0,
          1
         ],
         "title": {
          "text": "Nombre de festivals"
         }
        }
       }
      }
     },
     "metadata": {},
     "output_type": "display_data"
    }
   ],
   "source": [
    "# Plot\n",
    "# Calculer le nombre de festivals par région\n",
    "festivals_par_region = df_new['Region'].value_counts().head(10).reset_index()\n",
    "festivals_par_region.columns = ['Region', 'Nombre de festivals']\n",
    "\n",
    "# Tracer un graphique à barres avec Plotly\n",
    "fig = px.bar(festivals_par_region, x='Region', y='Nombre de festivals', \n",
    "             title='Top 10 des régions avec le plus grand nombre de festivals',\n",
    "             color_discrete_sequence=px.colors.sequential.thermal_r)\n",
    "\n",
    "fig.update_traces(texttemplate='%{y}', textposition='outside')\n",
    "\n",
    "fig.show()"
   ]
  }
 ],
 "metadata": {
  "kernelspec": {
   "display_name": "base",
   "language": "python",
   "name": "python3"
  },
  "language_info": {
   "codemirror_mode": {
    "name": "ipython",
    "version": 3
   },
   "file_extension": ".py",
   "mimetype": "text/x-python",
   "name": "python",
   "nbconvert_exporter": "python",
   "pygments_lexer": "ipython3",
   "version": "3.11.5"
  }
 },
 "nbformat": 4,
 "nbformat_minor": 2
}
